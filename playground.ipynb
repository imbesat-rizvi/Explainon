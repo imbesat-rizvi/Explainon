{
 "cells": [
  {
   "cell_type": "code",
   "execution_count": 1,
   "id": "df12b4a0-4b33-475a-a670-997d9828b783",
   "metadata": {},
   "outputs": [
    {
     "data": {
      "text/html": [
       "<pre style=\"white-space:pre;overflow-x:auto;line-height:normal;font-family:Menlo,'DejaVu Sans Mono',consolas,'Courier New',monospace\">Manim Community <span style=\"color: #008000; text-decoration-color: #008000\">v0.16.0.post0</span>\n",
       "\n",
       "</pre>\n"
      ],
      "text/plain": [
       "Manim Community \u001b[32mv0.\u001b[0m\u001b[32m16.0\u001b[0m\u001b[32m.post0\u001b[0m\n",
       "\n"
      ]
     },
     "metadata": {},
     "output_type": "display_data"
    }
   ],
   "source": [
    "import manim as mnm"
   ]
  },
  {
   "cell_type": "code",
   "execution_count": 2,
   "id": "3dae4241-af09-4ffe-8ba2-b731a3ae464f",
   "metadata": {},
   "outputs": [],
   "source": [
    "# mnm.BLUE, mnm.BLUE_C"
   ]
  },
  {
   "cell_type": "code",
   "execution_count": 19,
   "id": "9fa32d09-7443-477a-b11a-834798527ad8",
   "metadata": {},
   "outputs": [
    {
     "name": "stderr",
     "output_type": "stream",
     "text": [
      "                                                    \r"
     ]
    },
    {
     "data": {
      "text/html": [
       "<video src=\"media/jupyter/ExplainonIntro@2022-11-05@18-48-57.mp4\" controls autoplay loop style=\"max-width: 60%;\"  >\n",
       "      Your browser does not support the <code>video</code> element.\n",
       "    </video>"
      ],
      "text/plain": [
       "<IPython.core.display.Video object>"
      ]
     },
     "metadata": {},
     "output_type": "display_data"
    }
   ],
   "source": [
    "%%manim -qm -v WARNING ExplainonIntro\n",
    "\n",
    "import manim as mnm\n",
    "\n",
    "SCALAR_BOSONS = dict(higgs=\"H\")\n",
    "\n",
    "GAUGE_BOSONS = dict(\n",
    "    gluon=\"g\", \n",
    "    photon=\"\\\\gamma\", \n",
    "    z_boson=\"Z\",\n",
    "    w_boson=\"W\",\n",
    ")\n",
    "\n",
    "QUARKS = dict(\n",
    "    up=\"u\",\n",
    "    down=\"d\",\n",
    "    charm=\"c\",\n",
    "    strange=\"s\",\n",
    "    top=\"t\",\n",
    "    bottom=\"b\",\n",
    ")\n",
    "\n",
    "LEPTONS = dict(\n",
    "    electron=\"e\",\n",
    "    muon=\"\\\\mu\",\n",
    "    tau=\"\\\\tau\",\n",
    "    electron_neutrino=\"\\\\nu_e\",\n",
    "    muon_neutrino=\"\\\\nu_{\\\\mu}\",\n",
    "    tau_neutrino=\"\\\\nu_{\\\\tau}\",\n",
    ")\n",
    "\n",
    "CUSTOM = dict(explainon=\"\\\\epsilon\")\n",
    "\n",
    "LOGO_COLOR = dict(\n",
    "    scalar_bosons=mnm.YELLOW,\n",
    "    gauge_bosons=mnm.RED,\n",
    "    quarks=mnm.PURPLE,\n",
    "    leptons=mnm.GREEN,\n",
    "    custom=mnm.BLUE,\n",
    ")\n",
    "\n",
    "ALL_PARTICLES = {\n",
    "    **SCALAR_BOSONS, \n",
    "    **GAUGE_BOSONS, \n",
    "    **QUARKS, \n",
    "    **LEPTONS,\n",
    "    **CUSTOM,\n",
    "}\n",
    "\n",
    "PARTICLES_TO_GROUP = dict({\n",
    "    *list(zip(SCALAR_BOSONS.keys(), (\"scalar_bosons\",)*len(SCALAR_BOSONS))),\n",
    "    *list(zip(GAUGE_BOSONS.keys(), (\"gauge_bosons\",)*len(GAUGE_BOSONS))),\n",
    "    *list(zip(QUARKS.keys(), (\"quarks\",)*len(QUARKS))),\n",
    "    *list(zip(LEPTONS.keys(), (\"leptons\",)*len(LEPTONS))),\n",
    "    *list(zip(CUSTOM.keys(), (\"custom\",)*len(CUSTOM))),\n",
    "})\n",
    "\n",
    "def create_particle_logo(\n",
    "    label=r\"\\epsilon\", \n",
    "    radius=0.55, \n",
    "    color=mnm.color_gradient((mnm.BLUE, mnm.WHITE), 10),\n",
    "    font_color=mnm.BLACK, \n",
    "    font_size=75\n",
    "):\n",
    "    particle_logo = mnm.MathTex(\n",
    "        label, \n",
    "        color=font_color, \n",
    "        font_size=font_size\n",
    "    )\n",
    "    \n",
    "    particle_logo = mnm.LabeledDot(\n",
    "        label=particle_logo, \n",
    "        radius=radius, \n",
    "        fill_color=color\n",
    "    )\n",
    "    \n",
    "    return particle_logo\n",
    "\n",
    "PARTICLE_LOGO = {\n",
    "    k: create_particle_logo(\n",
    "        label=v, \n",
    "        color=mnm.color_gradient(\n",
    "            (LOGO_COLOR[PARTICLES_TO_GROUP[k]], mnm.WHITE), 10\n",
    "        )\n",
    "    )\n",
    "    for k, v in ALL_PARTICLES.items()\n",
    "}\n",
    "\n",
    "class ExplainonIntro(mnm.Scene):\n",
    "    def construct(self):\n",
    "        explainon = PARTICLE_LOGO[\"explainon\"]\n",
    "        # self.add(explainon)\n",
    "        self.play(mnm.ApplyWave(explainon, rate_func=mnm.linear, ripples=3))"
   ]
  },
  {
   "cell_type": "code",
   "execution_count": null,
   "id": "c53ff04a-ae07-4434-9b2e-112507b21f01",
   "metadata": {},
   "outputs": [],
   "source": [
    "import manim\n",
    "from manim import Create, Write, Transform, Scene\n",
    "from manim.mobject.geometry.polygram import Square\n",
    "from manim.mobject.geometry.arc import Circle"
   ]
  },
  {
   "cell_type": "code",
   "execution_count": null,
   "id": "f8a1f076-580f-4e30-8cfe-1a84df5abf02",
   "metadata": {},
   "outputs": [],
   "source": [
    "%%manim -qm -v WARNING SquareToCircle\n",
    "\n",
    "class SquareToCircle(Scene):\n",
    "   def construct(self):\n",
    "      square = Square()\n",
    "      circle = Circle()\n",
    "      circle.set_fill(manim.PINK, opacity=0.5)\n",
    "      self.play(Create(square))\n",
    "      self.play(Transform(square, circle))\n",
    "      self.wait()"
   ]
  },
  {
   "cell_type": "code",
   "execution_count": null,
   "id": "978bec8b-4813-4dfc-9f60-f10cbdb2d601",
   "metadata": {},
   "outputs": [],
   "source": [
    "import arabic_reshaper\n",
    "from manim import VGroup, TexTemplate, Text, register_font\n",
    "from manim.mobject.geometry.arc import Circle\n",
    "from manim.mobject.text.tex_mobject import MathTex, Tex"
   ]
  },
  {
   "cell_type": "code",
   "execution_count": null,
   "id": "9729ea6d-e50b-4d5d-9ee9-94e27b29f9e0",
   "metadata": {},
   "outputs": [],
   "source": [
    "%%manim -qm -v WARNING HelloWorld\n",
    "\n",
    "font_dir = \"./assets/fonts/\"\n",
    "# font_name = \"AlQalam Punjbi, Regular\"\n",
    "font_file = \"AlQalam-Punjbi-Regular.ttf\"\n",
    "logo_text = \"و\"\n",
    "logo_text = \"کیا\"\n",
    "# logo_text = \"وجہ کیا\"\n",
    "# logo_text = arabic_reshaper.reshape(\"وجہ کیا\")\n",
    "# logo_text = \"Test\"\n",
    "print(logo_text)\n",
    "\n",
    "tex_template = TexTemplate(\n",
    "    tex_compiler=\"lualatex\", \n",
    "    output_format=\".pdf\",\n",
    "    preamble=rf\"\"\"\n",
    "    \\usepackage{{fontspec}}\n",
    "    \\setmainfont{{{font_file}}}\n",
    "    \"\"\",\n",
    "    # preamble=rf\"\"\"\n",
    "    # \\usepackage{{fontspec}}\n",
    "    # \\setmainfont{{{font_file}}}[Path={font_dir}]\n",
    "    # \"\"\",\n",
    ")\n",
    "\n",
    "class HelloWorld(Scene):\n",
    "    def construct(self):\n",
    "        text = Tex(f\",{logo_text} $E^2=(mc^2)^2+(pc)^2$\", tex_template=tex_template)\n",
    "        # text = Tex(f\",{logo_text}\", tex_template=tex_template)\n",
    "        self.play(Write(text))\n",
    "        self.wait()"
   ]
  },
  {
   "cell_type": "code",
   "execution_count": null,
   "id": "66d56120-cd4b-4eb5-9ead-e69e00bb244c",
   "metadata": {},
   "outputs": [],
   "source": []
  }
 ],
 "metadata": {
  "kernelspec": {
   "display_name": "Python 3 (ipykernel)",
   "language": "python",
   "name": "python3"
  },
  "language_info": {
   "codemirror_mode": {
    "name": "ipython",
    "version": 3
   },
   "file_extension": ".py",
   "mimetype": "text/x-python",
   "name": "python",
   "nbconvert_exporter": "python",
   "pygments_lexer": "ipython3",
   "version": "3.10.6"
  }
 },
 "nbformat": 4,
 "nbformat_minor": 5
}
