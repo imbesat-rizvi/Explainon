{
 "cells": [
  {
   "cell_type": "code",
   "execution_count": 1,
   "id": "df12b4a0-4b33-475a-a670-997d9828b783",
   "metadata": {},
   "outputs": [
    {
     "data": {
      "text/html": [
       "<pre style=\"white-space:pre;overflow-x:auto;line-height:normal;font-family:Menlo,'DejaVu Sans Mono',consolas,'Courier New',monospace\">Manim Community <span style=\"color: #008000; text-decoration-color: #008000\">v0.16.0.post0</span>\n",
       "\n",
       "</pre>\n"
      ],
      "text/plain": [
       "Manim Community \u001b[32mv0.\u001b[0m\u001b[32m16.0\u001b[0m\u001b[32m.post0\u001b[0m\n",
       "\n"
      ]
     },
     "metadata": {},
     "output_type": "display_data"
    }
   ],
   "source": [
    "import manim as mnm"
   ]
  },
  {
   "cell_type": "code",
   "execution_count": 2,
   "id": "3dae4241-af09-4ffe-8ba2-b731a3ae464f",
   "metadata": {},
   "outputs": [],
   "source": [
    "# mnm.BLUE, mnm.BLUE_C"
   ]
  },
  {
   "cell_type": "code",
   "execution_count": 3,
   "id": "9fa32d09-7443-477a-b11a-834798527ad8",
   "metadata": {},
   "outputs": [
    {
     "name": "stderr",
     "output_type": "stream",
     "text": [
      "                                                    \r"
     ]
    },
    {
     "data": {
      "text/html": [
       "<video src=\"media/jupyter/ExplainonIntro@2022-11-06@23-28-07.mp4\" controls autoplay loop style=\"max-width: 60%;\"  >\n",
       "      Your browser does not support the <code>video</code> element.\n",
       "    </video>"
      ],
      "text/plain": [
       "<IPython.core.display.Video object>"
      ]
     },
     "metadata": {},
     "output_type": "display_data"
    }
   ],
   "source": [
    "%%manim -qm -v WARNING ExplainonIntro\n",
    "\n",
    "from explainon.logo import PARTICLE_LOGO\n",
    "\n",
    "class ExplainonIntro(mnm.Scene):\n",
    "    def construct(self):\n",
    "        explainon = PARTICLE_LOGO[\"explainon\"]\n",
    "        # self.add(explainon)\n",
    "        self.play(mnm.ApplyWave(explainon, rate_func=mnm.linear, ripples=3))"
   ]
  },
  {
   "cell_type": "code",
   "execution_count": null,
   "id": "66d56120-cd4b-4eb5-9ead-e69e00bb244c",
   "metadata": {},
   "outputs": [],
   "source": []
  }
 ],
 "metadata": {
  "kernelspec": {
   "display_name": "Python 3 (ipykernel)",
   "language": "python",
   "name": "python3"
  },
  "language_info": {
   "codemirror_mode": {
    "name": "ipython",
    "version": 3
   },
   "file_extension": ".py",
   "mimetype": "text/x-python",
   "name": "python",
   "nbconvert_exporter": "python",
   "pygments_lexer": "ipython3",
   "version": "3.10.6"
  }
 },
 "nbformat": 4,
 "nbformat_minor": 5
}
